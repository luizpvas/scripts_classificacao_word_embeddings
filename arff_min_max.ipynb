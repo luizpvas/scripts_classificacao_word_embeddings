{
 "cells": [
  {
   "cell_type": "code",
   "execution_count": 1,
   "metadata": {},
   "outputs": [],
   "source": [
    "import sys\n",
    "import gensim\n",
    "from gensim.models.wrappers import FastText\n",
    "import numpy as np"
   ]
  },
  {
   "cell_type": "code",
   "execution_count": 17,
   "metadata": {},
   "outputs": [],
   "source": [
    "dim_vec = 300\n",
    "topics = ['sci.med', 'comp.graphics', 'rec.sport.baseball', 'rec.motorcycles', 'talk.religion.misc']\n",
    "docs = {}"
   ]
  },
  {
   "cell_type": "code",
   "execution_count": null,
   "metadata": {},
   "outputs": [],
   "source": [
    "model = FastText.load_fasttext_format('wiki.simple/wiki.simple')"
   ]
  },
  {
   "cell_type": "code",
   "execution_count": 18,
   "metadata": {},
   "outputs": [],
   "source": [
    "with open('./20ng-test-all-terms.txt') as file:\n",
    "    for line in file:\n",
    "        parts = line.split('\\t')\n",
    "        topic = parts[0]\n",
    "        doc = parts[1]\n",
    "        if topic in docs:\n",
    "            docs[topic].append(doc)\n",
    "        else:\n",
    "            docs[topic] = [doc]"
   ]
  },
  {
   "cell_type": "code",
   "execution_count": 19,
   "metadata": {},
   "outputs": [],
   "source": [
    "file = open(\"test_5_min_max.arff\", \"w\")\n",
    " \n",
    "file.write(\"@RELATION word2vec\\n\")\n",
    "for i in range(dim_vec):\n",
    "    file.write(\"@ATTRIBUTE dim_{}_min NUMERIC\\n\".format(i))\n",
    "    file.write(\"@ATTRIBUTE dim_{}_max NUMERIC\\n\".format(i))\n",
    "\n",
    "topics_str = '{' + ','.join(topics) + '}'\n",
    "file.write(\"@ATTRIBUTE class {}\\n\".format(topics_str))\n",
    "\n",
    "file.write(\"@DATA\\n\")\n",
    "for topic in topics:\n",
    "    for doc in docs[topic]:\n",
    "        total_words = 0\n",
    "        doc_vec = []\n",
    "        words = doc.split(' ')\n",
    "        vectors = [model.wv[word] for word in words if word in model.wv]\n",
    "        \n",
    "        for i in range(dim_vec):\n",
    "            dim_values = [v[i] for v in vectors]\n",
    "            doc_vec.append(min(dim_values))\n",
    "            doc_vec.append(max(dim_values))\n",
    "        \n",
    "        doc_vec.append(topic)\n",
    "        file.write(\",\".join(str(x) for x in doc_vec))\n",
    "        file.write(\"\\n\")\n",
    "\n",
    "file.close()"
   ]
  },
  {
   "cell_type": "code",
   "execution_count": null,
   "metadata": {},
   "outputs": [],
   "source": [
    "file = open(\"test_5_min_max.arff\", \"w\") \n",
    " \n",
    "file.write(\"@RELATION word2vec\")\n",
    "for i in range(dim_vec):\n",
    "    file.write(\"@ATTRIBUTE dim_{}_min NUMERIC\".format(i))\n",
    "    file.write(\"@ATTRIBUTE dim_{}_max NUMERIC\".format(i))\n",
    "\n",
    "topics_str = '{' + ','.join(topics) + '}'\n",
    "print('@ATTRIBUTE class {}'.format(topics_str))\n",
    "\n",
    "file.write(“This is our new text file”) \n",
    "file.write(“and this is another line.”) \n",
    "file.write(“Why? Because we can.”) \n",
    " \n",
    "file.close() "
   ]
  }
 ],
 "metadata": {
  "kernelspec": {
   "display_name": "Python 3",
   "language": "python",
   "name": "python3"
  },
  "language_info": {
   "codemirror_mode": {
    "name": "ipython",
    "version": 3
   },
   "file_extension": ".py",
   "mimetype": "text/x-python",
   "name": "python",
   "nbconvert_exporter": "python",
   "pygments_lexer": "ipython3",
   "version": "3.5.2"
  }
 },
 "nbformat": 4,
 "nbformat_minor": 2
}
